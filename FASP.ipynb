{
  "nbformat": 4,
  "nbformat_minor": 0,
  "metadata": {
    "kernelspec": {
      "display_name": "Python 3",
      "language": "python",
      "name": "python3"
    },
    "language_info": {
      "codemirror_mode": {
        "name": "ipython",
        "version": 3
      },
      "file_extension": ".py",
      "mimetype": "text/x-python",
      "name": "python",
      "nbconvert_exporter": "python",
      "pygments_lexer": "ipython3",
      "version": "3.6.4"
    },
    "colab": {
      "name": "FASP.ipynb",
      "provenance": [],
      "collapsed_sections": [],
      "toc_visible": true
    }
  },
  "cells": [
    {
      "cell_type": "markdown",
      "metadata": {
        "id": "vECjlVAdQ2r5"
      },
      "source": [
        "Import the required python packages\n"
      ]
    },
    {
      "cell_type": "code",
      "metadata": {
        "id": "Z2uFnDKJW9Mg"
      },
      "source": [
        "#  !pip install tsplib95\n",
        "import numpy as np, random, operator, pandas as pd, matplotlib.pyplot as plt,tsplib95,multiprocessing,threading"
      ],
      "execution_count": null,
      "outputs": []
    },
    {
      "cell_type": "markdown",
      "metadata": {
        "id": "ncaa1AH6W9Ml"
      },
      "source": [
        "## Create necessary classes and functions to build the TSP problem setup"
      ]
    },
    {
      "cell_type": "markdown",
      "metadata": {
        "id": "5HgwcbXjW9Mm"
      },
      "source": [
        "Class to handle \"TSP cities\""
      ]
    },
    {
      "cell_type": "code",
      "metadata": {
        "id": "pfYiLZDTW9Mn"
      },
      "source": [
        "class City:\n",
        "    def __init__(self, x, y):\n",
        "        self.x = x\n",
        "        self.y = y\n",
        "    \n",
        "    def distance(self, city):\n",
        "        xDis = abs(self.x - city.x)\n",
        "        yDis = abs(self.y - city.y)\n",
        "        distance = np.sqrt((xDis ** 2) + (yDis ** 2))\n",
        "        return distance\n",
        "    \n",
        "    def __repr__(self):\n",
        "        return \"(\" + str(self.x) + \",\" + str(self.y) + \")\""
      ],
      "execution_count": null,
      "outputs": []
    },
    {
      "cell_type": "markdown",
      "metadata": {
        "id": "fk4bM3YZW9Mr"
      },
      "source": [
        "Create a fitness function that ranks the TSP individuals in a given population. In this case, the individuals of the population are the different possible TSP paths"
      ]
    },
    {
      "cell_type": "code",
      "metadata": {
        "id": "xwDB5eXwW9Ms"
      },
      "source": [
        "class Fitness:\n",
        "    def __init__(self, route):\n",
        "        self.route = route\n",
        "        self.distance = 0\n",
        "        self.fitness= 0.0\n",
        "    \n",
        "    def routeDistance(self):\n",
        "        if self.distance ==0:\n",
        "            pathDistance = 0\n",
        "            for i in range(0, len(self.route)):\n",
        "                fromCity = self.route[i]\n",
        "                toCity = None\n",
        "                if i + 1 < len(self.route):\n",
        "                    toCity = self.route[i + 1]\n",
        "                else:\n",
        "                    toCity = self.route[0]\n",
        "                pathDistance += fromCity.distance(toCity)\n",
        "            self.distance = pathDistance\n",
        "        return self.distance\n",
        "    \n",
        "    def routeFitness(self):\n",
        "        if self.fitness == 0:\n",
        "            self.fitness = 1 / float(self.routeDistance())\n",
        "        return self.fitness"
      ],
      "execution_count": null,
      "outputs": []
    },
    {
      "cell_type": "markdown",
      "metadata": {
        "id": "fi-a0_YyW9Mv"
      },
      "source": [
        "## Create our initial population"
      ]
    },
    {
      "cell_type": "markdown",
      "metadata": {
        "id": "IVJH-NNFW9Mw"
      },
      "source": [
        "Route generator"
      ]
    },
    {
      "cell_type": "code",
      "metadata": {
        "id": "oCqtJsc0W9Mx"
      },
      "source": [
        "def createRoute(cityList):\n",
        "    route = random.sample(cityList, len(cityList))\n",
        "    return route"
      ],
      "execution_count": null,
      "outputs": []
    },
    {
      "cell_type": "markdown",
      "metadata": {
        "id": "ldaA2DWoW9M1"
      },
      "source": [
        "Create first \"population\" (list of routes)"
      ]
    },
    {
      "cell_type": "code",
      "metadata": {
        "id": "Pl5qxfUSW9M2"
      },
      "source": [
        "def initialPopulation(popSize, cityList):\n",
        "    population = []\n",
        "\n",
        "    for i in range(0, popSize):\n",
        "        population.append(createRoute(cityList))\n",
        "    return population"
      ],
      "execution_count": null,
      "outputs": []
    },
    {
      "cell_type": "markdown",
      "metadata": {
        "id": "qW0K7K7ovndw"
      },
      "source": [
        "Create N subpopulations from population (list of routes)"
      ]
    },
    {
      "cell_type": "code",
      "metadata": {
        "id": "09Xgrx5Jvt1S"
      },
      "source": [
        "def createSubPopulation(popSize,cityList, subPopSize):\n",
        "  subPopulation = []\n",
        "\n",
        "  for i in range(0,subPopSize):\n",
        "    subPopulation.append(initialPopulation(popSize,cityList))\n",
        "  return subPopulation"
      ],
      "execution_count": null,
      "outputs": []
    },
    {
      "cell_type": "markdown",
      "metadata": {
        "id": "x5bRiu7UW9M6"
      },
      "source": [
        "## Create the genetic algorithm"
      ]
    },
    {
      "cell_type": "markdown",
      "metadata": {
        "id": "qvXnRRRcW9M7"
      },
      "source": [
        "Rank individuals"
      ]
    },
    {
      "cell_type": "code",
      "metadata": {
        "id": "ocKJx0T7W9M8"
      },
      "source": [
        "def rankRoutes(population): #Double Arr\n",
        "    fitnessResults = {}\n",
        "    for i in range(0,len(population)):\n",
        "        fitnessResults[i] = Fitness(population[i]).routeFitness()\n",
        "    return sorted(fitnessResults.items(), key = operator.itemgetter(1), reverse = True)"
      ],
      "execution_count": null,
      "outputs": []
    },
    {
      "cell_type": "markdown",
      "metadata": {
        "id": "nWzF7W2B3Vxc"
      },
      "source": [
        "Sort routes in ascending order"
      ]
    },
    {
      "cell_type": "code",
      "metadata": {
        "id": "asXQoEDQ3PqX"
      },
      "source": [
        "def rankRoutesAsc(population): #Double Arr\n",
        "    fitnessResults = {}\n",
        "    for i in range(0,len(population)):\n",
        "        fitnessResults[i] = Fitness(population[i]).routeFitness()\n",
        "    return sorted(fitnessResults.items(), key = operator.itemgetter(1))"
      ],
      "execution_count": null,
      "outputs": []
    },
    {
      "cell_type": "markdown",
      "metadata": {
        "id": "AKpxco5jW9NA"
      },
      "source": [
        "Create a selection function that will be used to make the list of parent routes"
      ]
    },
    {
      "cell_type": "code",
      "metadata": {
        "id": "PMUVAk5EW9NB"
      },
      "source": [
        "def selection(popRanked, eliteSize):\n",
        "    selectionResults = []\n",
        "    df = pd.DataFrame(np.array(popRanked), columns=[\"Index\",\"Fitness\"])\n",
        "    df['cum_sum'] = df.Fitness.cumsum()\n",
        "    df['cum_perc'] = 100*df.cum_sum/df.Fitness.sum()\n",
        "    \n",
        "    for i in range(0, eliteSize):\n",
        "        selectionResults.append(popRanked[i][0])\n",
        "    for i in range(0, len(popRanked) - eliteSize):\n",
        "        pick = 100*random.random()\n",
        "        for i in range(0, len(popRanked)):\n",
        "            if pick <= df.iat[i,3]:\n",
        "                selectionResults.append(popRanked[i][0])\n",
        "                break\n",
        "    return selectionResults"
      ],
      "execution_count": null,
      "outputs": []
    },
    {
      "cell_type": "markdown",
      "metadata": {
        "id": "5oFxeqn8W9NE"
      },
      "source": [
        "Create mating pool"
      ]
    },
    {
      "cell_type": "code",
      "metadata": {
        "id": "fMTXKJpIW9NE"
      },
      "source": [
        "def matingPool(population, selectionResults):\n",
        "    matingpool = []\n",
        "    for i in range(0, len(selectionResults)):\n",
        "        index = selectionResults[i]\n",
        "        matingpool.append(population[index])\n",
        "    return matingpool"
      ],
      "execution_count": null,
      "outputs": []
    },
    {
      "cell_type": "markdown",
      "metadata": {
        "id": "-UKWOd1kW9NI"
      },
      "source": [
        "Create a crossover function for two parents to create one child. We are specifically using ordered crossover to maintain the sequence of the cities in a route."
      ]
    },
    {
      "cell_type": "code",
      "metadata": {
        "id": "1I3_2RY9W9NI"
      },
      "source": [
        "def breed(parent1, parent2):\n",
        "    child = []\n",
        "    childP1 = []\n",
        "    childP2 = []\n",
        "    \n",
        "    geneA = int(random.random() * len(parent1))\n",
        "    geneB = int(random.random() * len(parent1))\n",
        "    \n",
        "    startGene = min(geneA, geneB)\n",
        "    endGene = max(geneA, geneB)\n",
        "\n",
        "    for i in range(startGene, endGene):\n",
        "        childP1.append(parent1[i])\n",
        "        \n",
        "    childP2 = [item for item in parent2 if item not in childP1]\n",
        "\n",
        "    child = childP1 + childP2\n",
        "    return child"
      ],
      "execution_count": null,
      "outputs": []
    },
    {
      "cell_type": "markdown",
      "metadata": {
        "id": "ZVJZoG4PW9NL"
      },
      "source": [
        "Create function to run crossover over full mating pool"
      ]
    },
    {
      "cell_type": "code",
      "metadata": {
        "id": "hfB5oYg-W9NN"
      },
      "source": [
        "def breedPopulation(matingpool, eliteSize):\n",
        "    children = []\n",
        "    length = len(matingpool) - eliteSize\n",
        "    pool = random.sample(matingpool, len(matingpool))\n",
        "\n",
        "    for i in range(0,eliteSize):\n",
        "        children.append(matingpool[i])\n",
        "    \n",
        "    for i in range(0, length):\n",
        "        child = breed(pool[i], pool[len(matingpool)-i-1])\n",
        "        children.append(child)\n",
        "    return children"
      ],
      "execution_count": null,
      "outputs": []
    },
    {
      "cell_type": "markdown",
      "metadata": {
        "id": "dg2NuMJGW9NQ"
      },
      "source": [
        "Create function to mutate a single route"
      ]
    },
    {
      "cell_type": "code",
      "metadata": {
        "id": "H2BEGwWVW9NR"
      },
      "source": [
        "def mutate(individual, mutationRate):\n",
        "    for swapped in range(len(individual)):\n",
        "        if(random.random() < mutationRate):\n",
        "            swapWith = int(random.random() * len(individual))\n",
        "            \n",
        "            city1 = individual[swapped]\n",
        "            city2 = individual[swapWith]\n",
        "            \n",
        "            individual[swapped] = city2\n",
        "            individual[swapWith] = city1\n",
        "    return individual"
      ],
      "execution_count": null,
      "outputs": []
    },
    {
      "cell_type": "markdown",
      "metadata": {
        "id": "HcSFaP12W9NU"
      },
      "source": [
        "Create function to run mutation over entire population"
      ]
    },
    {
      "cell_type": "code",
      "metadata": {
        "id": "4leh6_trW9NU"
      },
      "source": [
        "def mutatePopulation(population, mutationRate):\n",
        "    mutatedPop = []\n",
        "    \n",
        "    for ind in range(0, len(population)):\n",
        "        mutatedInd = mutate(population[ind], mutationRate)\n",
        "        mutatedPop.append(mutatedInd)\n",
        "    return mutatedPop"
      ],
      "execution_count": null,
      "outputs": []
    },
    {
      "cell_type": "markdown",
      "metadata": {
        "id": "r5wNK89BW9NX"
      },
      "source": [
        "Put all steps together to create the next generation"
      ]
    },
    {
      "cell_type": "code",
      "metadata": {
        "id": "zrLVVSCUW9Na"
      },
      "source": [
        "def nextGeneration(currentGen, eliteSize, mutationRate, migrationInterval,migrationSize, generationCount): #subCount change needed for trying both ga\n",
        "    popRanked = rankRoutes(currentGen)\n",
        "    selectionResults = selection(popRanked, eliteSize)\n",
        "    matingpool = matingPool(currentGen, selectionResults)\n",
        "    children = breedPopulation(matingpool, eliteSize)\n",
        "    nextGeneration = mutatePopulation(children, mutationRate)\n",
        "\n",
        "    return nextGeneration\n"
      ],
      "execution_count": null,
      "outputs": []
    },
    {
      "cell_type": "markdown",
      "metadata": {
        "id": "sOddlP1eW9Nd"
      },
      "source": [
        "Proposed migration operator implemented can be found below:"
      ]
    },
    {
      "cell_type": "code",
      "metadata": {
        "id": "mhorQ9tsmphA"
      },
      "source": [
        "def geneticAlgorithm(population, popSize, eliteSize, mutationRate, generations, subPopSize,migrationInterval,migrationSize):\n",
        "\n",
        "    a = createSubPopulation(popSize, population,subPopSize) #[][][]\n",
        "    b = createSubPopulation(popSize, population,subPopSize)\n",
        "    c = createSubPopulation(popSize, population,subPopSize)\n",
        "    d = createSubPopulation(popSize, population,subPopSize)\n",
        "\n",
        "    print(\"Initial distance: \" + str(1 / rankRoutes(a[0])[0][1]))\n",
        "    print(\"Initial distance: \" + str(1 / rankRoutes(b[0])[0][1]))\n",
        "    print(\"Initial distance: \" + str(1 / rankRoutes(c[0])[0][1]))\n",
        "    print(\"Initial distance: \" + str(1 / rankRoutes(d[0])[0][1]))\n",
        "    \n",
        "    for (w,x,y,z) in zip(a,b,c,d):\n",
        "      for i in range(1,generations + 1):\n",
        "        # print('start of gen', i)\n",
        "        a = [nextGeneration(a[0], eliteSize, mutationRate, migrationInterval,migrationSize, i)]\n",
        "        b = [nextGeneration(b[0], eliteSize, mutationRate, migrationInterval,migrationSize, i)]\n",
        "        c = [nextGeneration(c[0], eliteSize, mutationRate, migrationInterval,migrationSize, i)]\n",
        "        d = [nextGeneration(d[0], eliteSize, mutationRate, migrationInterval,migrationSize, i)]\n",
        "        # print('end of gen', i)\n",
        "        if i % migrationInterval == 0:\n",
        "          # print('Perform migration')\n",
        "          \n",
        "          competitorDict = {} #list of indexes of best route\n",
        "\n",
        "          competitorDict['b'] = rankRoutes(b[0])[0]\n",
        "          competitorDict['c'] = rankRoutes(c[0])[0]\n",
        "          competitorDict['d'] = rankRoutes(d[0])[0]\n",
        "\n",
        "            \n",
        "          sortedDict = sorted(competitorDict.items(),key = lambda x: x[1][1],reverse=True)\n",
        "          #route with maximum fitness ; [0] describes the index position\n",
        "          winner  = sortedDict[0]\n",
        "          key = str(winner[0])\n",
        "          \n",
        "          if key =='b':\n",
        "            bestRoute = b[0][0]\n",
        "          elif key == 'c':\n",
        "            bestRoute = c[0][0]\n",
        "          elif key == 'd':\n",
        "            bestRoute = d[0][0]\n",
        "          \n",
        "          # print(bestRoute)\n",
        "          #print(\"Before Migration: \",a[0])\n",
        "          worstRouteIndex = rankRoutesAsc(a[0])[0][0]\n",
        "          # worstRoute = a[0][worstRouteIndex] #Route in terms of (x,y)\n",
        "          a[0][worstRouteIndex] = bestRoute\n",
        "          #print(\"After Migration: \",a[0])\n",
        "\n",
        "    #calculate final distance\n",
        "    # print(a)\n",
        "    BestDistA = 1 / rankRoutes(a[0])[0][1]\n",
        "    BestDistB = 1 / rankRoutes(b[0])[0][1]\n",
        "    BestDistC = 1 / rankRoutes(c[0])[0][1]\n",
        "    BestDistD = 1 / rankRoutes(d[0])[0][1]\n",
        "    \n",
        "    # print(\"Final distance: \" + str(1 / rankRoutes(a[0])[0][1])) #Best individuals from each subpopulation\n",
        "    # print(\"Final distance: \" + str(1 / rankRoutes(b[0])[0][1]))\n",
        "    # print(\"Final distance: \" + str(1 / rankRoutes(c[0])[0][1]))\n",
        "    # print(\"Final distance: \" + str(1 / rankRoutes(d[0])[0][1]))\n",
        "\n",
        "    finalBest = min(BestDistA,BestDistB,BestDistC,BestDistD)\n",
        "    print(\"Final Best distance: \" + str(finalBest))\n",
        "\n",
        "\n",
        "    bestRouteIndex = rankRoutes(a[0])[0][0]\n",
        "    bestRoute = a[0][bestRouteIndex]\n",
        "    return bestRoute"
      ],
      "execution_count": null,
      "outputs": []
    },
    {
      "cell_type": "markdown",
      "metadata": {
        "id": "fXbRQLSEW9Ng"
      },
      "source": [
        "## Running the genetic algorithm"
      ]
    },
    {
      "cell_type": "markdown",
      "metadata": {
        "id": "h2ZQQE07W9Nh"
      },
      "source": [
        "Create list of cities"
      ]
    },
    {
      "cell_type": "code",
      "metadata": {
        "id": "4wfoQGdEW9Nh",
        "colab": {
          "base_uri": "https://localhost:8080/",
          "height": 70
        },
        "outputId": "cfbbc7d3-794f-459d-902f-fc77e97fb3c5"
      },
      "source": [
        "problem = tsplib95.load('./bier127.tsp') #Load TSPLIB dataset here\n",
        "print(problem.as_keyword_dict()['NODE_COORD_SECTION'].get(1))\n",
        "cityList = []\n",
        "for i in range(1,128):\n",
        "    x = problem.as_keyword_dict()['NODE_COORD_SECTION'].get(i)[0]\n",
        "    y = problem.as_keyword_dict()['NODE_COORD_SECTION'].get(i)[1]\n",
        "    cityList.append(City(x,y))\n",
        "print(cityList)"
      ],
      "execution_count": null,
      "outputs": [
        {
          "output_type": "stream",
          "text": [
            "[9860, 14152]\n",
            "[(9860,14152), (9396,14616), (11252,14848), (11020,13456), (9512,15776), (10788,13804), (10208,14384), (11600,13456), (11252,14036), (10672,15080), (11136,14152), (9860,13108), (10092,14964), (9512,13340), (10556,13688), (9628,14036), (10904,13108), (11368,12644), (11252,13340), (10672,13340), (11020,13108), (11020,13340), (11136,13572), (11020,13688), (8468,11136), (8932,12064), (9512,12412), (7772,11020), (8352,10672), (9164,12876), (9744,12528), (8352,10324), (8236,11020), (8468,12876), (8700,14036), (8932,13688), (9048,13804), (8468,12296), (8352,12644), (8236,13572), (9164,13340), (8004,12760), (8584,13108), (7772,14732), (7540,15080), (7424,17516), (8352,17052), (7540,16820), (7888,17168), (9744,15196), (9164,14964), (9744,16240), (7888,16936), (8236,15428), (9512,17400), (9164,16008), (8700,15312), (11716,16008), (12992,14964), (12412,14964), (12296,15312), (12528,15196), (15312,6612), (11716,16124), (11600,19720), (10324,17516), (12412,13340), (12876,12180), (13688,10904), (13688,11716), (13688,12528), (11484,13224), (12296,12760), (12064,12528), (12644,10556), (11832,11252), (11368,12296), (11136,11020), (10556,11948), (10324,11716), (11484,9512), (11484,7540), (11020,7424), (11484,9744), (16936,12180), (17052,12064), (16936,11832), (17052,11600), (13804,18792), (12064,14964), (12180,15544), (14152,18908), (5104,14616), (6496,17168), (5684,13224), (15660,10788), (5336,10324), (812,6264), (14384,20184), (11252,15776), (9744,3132), (10904,3480), (7308,14848), (16472,16472), (10440,14036), (10672,13804), (1160,18560), (10788,13572), (15660,11368), (15544,12760), (5336,18908), (6264,19140), (11832,17516), (10672,14152), (10208,15196), (12180,14848), (11020,10208), (7656,17052), (16240,8352), (10440,14732), (9164,15544), (8004,11020), (5684,11948), (9512,16472), (13688,17516), (11484,8468), (3248,14152)]\n"
          ],
          "name": "stdout"
        }
      ]
    },
    {
      "cell_type": "markdown",
      "metadata": {
        "id": "hqXTRyqCW9Nl"
      },
      "source": [
        "Run the genetic algorithm"
      ]
    },
    {
      "cell_type": "code",
      "metadata": {
        "id": "7MGpP-zeW9Nl"
      },
      "source": [
        "geneticAlgorithm(population = cityList, popSize = 15, eliteSize = 4, mutationRate = 0.01, generations = 500, subPopSize = 4,migrationInterval = 10,migrationSize = 1)\n"
      ],
      "execution_count": null,
      "outputs": []
    },
    {
      "cell_type": "markdown",
      "metadata": {
        "id": "t2n_BbyOW9Np"
      },
      "source": [
        "## Plot the progress"
      ]
    },
    {
      "cell_type": "markdown",
      "metadata": {
        "id": "-VRMLHznW9Nq"
      },
      "source": [
        "Note, this will win run a separate GA"
      ]
    },
    {
      "cell_type": "code",
      "metadata": {
        "id": "9kRZJv50W9Nq"
      },
      "source": [
        "def geneticAlgorithmPlot(population, popSize, eliteSize, mutationRate, generations):\n",
        "    pop = initialPopulation(popSize, population)\n",
        "    progress = []\n",
        "    progress.append(1 / rankRoutes(pop)[0][1])\n",
        "    \n",
        "    for i in range(0, generations):\n",
        "        pop = nextGeneration(pop, eliteSize, mutationRate)\n",
        "        progress.append(1 / rankRoutes(pop)[0][1])\n",
        "    \n",
        "    plt.plot(progress)\n",
        "    plt.ylabel('Distance')\n",
        "    plt.xlabel('Generation')\n",
        "    plt.show()"
      ],
      "execution_count": null,
      "outputs": []
    },
    {
      "cell_type": "markdown",
      "metadata": {
        "id": "qNxEvqvHW9Nt"
      },
      "source": [
        "Run the function with  to observe the performance improvement in each generation"
      ]
    },
    {
      "cell_type": "code",
      "metadata": {
        "id": "_-OOJ0b0W9Nt"
      },
      "source": [
        "geneticAlgorithmPlot(population=cityList, popSize=100, eliteSize=20, mutationRate=0.01, generations=200)"
      ],
      "execution_count": null,
      "outputs": []
    }
  ]
}